{
 "cells": [
  {
   "cell_type": "code",
   "execution_count": null,
   "metadata": {},
   "outputs": [],
   "source": [
    "import cv2\n",
    "import scipy\n",
    "import matplotlib.pyplot as plt\n",
    "import imutils\n",
    "import numpy as np\n",
    "from scipy.spatial import distance as dist\n",
    "from imutils import perspective\n",
    "from imutils import contours"
   ]
  },
  {
   "cell_type": "code",
   "execution_count": null,
   "metadata": {},
   "outputs": [],
   "source": [
    "def midpoint(a, b):\n",
    "    return tuple(((a + b)/2).astype(int))\n",
    "\n",
    "def get_mm_per_pixel(real_object_size, cnts):\n",
    "    \n",
    "    '''\n",
    "    Select smallest contour\n",
    "    select random edge from it\n",
    "    scale length of random edge with real_object_size\n",
    "    '''\n",
    "    \n",
    "    cnt_areas = [cv2.contourArea(cnt) for cnt in cnts]\n",
    "    cnt_areas.sort()\n",
    "    smallest_area = cnt_areas[0]\n",
    "    smallest_cnt = [cnt for cnt in cnts if cv2.contourArea(cnt) == smallest_area]\n",
    "\n",
    "    rect = cv2.minAreaRect(smallest_cnt[0])\n",
    "    box = cv2.boxPoints(rect)\n",
    "    box = np.int0(box)\n",
    "    (a, b, c, d) = box\n",
    "    length = dist.euclidean(a, b)\n",
    "    return real_object_size/length    \n",
    "\n",
    "def filter_biggest_contour_areas(cnts, num):\n",
    "    '''\n",
    "    get num biggest areas from cnts\n",
    "    '''\n",
    "    cnt_areas = [cv2.contourArea(cnt) for cnt in cnts]\n",
    "    cnt_areas.sort()\n",
    "    cnts = [cnt for cnt in cnts if cv2.contourArea(cnt) >= cnt_areas[-num]]\n",
    "    return cnts"
   ]
  },
  {
   "cell_type": "markdown",
   "metadata": {},
   "source": [
    "# Configuration"
   ]
  },
  {
   "cell_type": "code",
   "execution_count": null,
   "metadata": {},
   "outputs": [],
   "source": [
    "num_objects_on_image = 2\n",
    "binarization_lim = 120 #from which rgb value on is 1 or 0?"
   ]
  },
  {
   "cell_type": "code",
   "execution_count": null,
   "metadata": {},
   "outputs": [],
   "source": [
    "raw_img = cv2.imread(\"IMG_20200504_153955.jpg\")\n",
    "grey = cv2.cvtColor(raw_img, cv2.COLOR_BGR2GRAY)\n",
    "ret, thresh = cv2.threshold(grey, binarization_lim, 255, 0)\n",
    "plt.figure(figsize=(20,10))\n",
    "plt.imshow(thresh)"
   ]
  },
  {
   "cell_type": "code",
   "execution_count": null,
   "metadata": {},
   "outputs": [],
   "source": [
    "blurred = cv2.GaussianBlur(thresh, (7, 7), 0)\n",
    "edged = cv2.Canny(blurred, 50, 100)\n",
    "edged = cv2.dilate(edged, None, iterations=1)\n",
    "edged = cv2.erode(edged, None, iterations=1)\n",
    "plt.figure(figsize=(20,10))\n",
    "plt.imshow(edged)"
   ]
  },
  {
   "cell_type": "code",
   "execution_count": null,
   "metadata": {},
   "outputs": [],
   "source": [
    "output = raw_img.copy()\n",
    "\n",
    "(cnts, _) = cv2.findContours(edged, cv2.RETR_EXTERNAL, cv2.CHAIN_APPROX_SIMPLE)\n",
    "\n",
    "cnts = filter_biggest_contour_areas(cnts, num_objects_on_image)\n",
    "mm_per_pixel = get_mm_per_pixel(24, cnts)\n",
    "\n",
    "print(mm_per_pixel)\n",
    "\n",
    "for contour in cnts:\n",
    "    rect = cv2.minAreaRect(contour)\n",
    "    box = cv2.boxPoints(rect)\n",
    "    box = np.int0(box)\n",
    "    cv2.drawContours(output,[box],0,(0,0,255),4)\n",
    "    \n",
    "    (a, b, c, d) = box\n",
    "    ab = dist.euclidean(a, b)\n",
    "    bc = dist.euclidean(b, c)\n",
    "    cd = dist.euclidean(c, d)\n",
    "    da = dist.euclidean(d, a)\n",
    "\n",
    "    cv2.putText(output, \"{:.1f}mm\".format(ab*mm_per_pixel),midpoint(a,b), cv2.FONT_HERSHEY_SIMPLEX, 3, (0, 0, 255), 2)\n",
    "    cv2.putText(output, \"{:.1f}mm\".format(bc*mm_per_pixel),midpoint(b,c), cv2.FONT_HERSHEY_SIMPLEX, 3, (0, 0, 255), 2)\n",
    "    cv2.putText(output, \"{:.1f}mm\".format(cd*mm_per_pixel),midpoint(c,d), cv2.FONT_HERSHEY_SIMPLEX, 3, (0, 0, 255), 2)\n",
    "    cv2.putText(output, \"{:.1f}mm\".format(da*mm_per_pixel),midpoint(d,a), cv2.FONT_HERSHEY_SIMPLEX, 3, (0, 0, 255), 2)\n",
    "    \n",
    "\n",
    "plt.figure(figsize=(20,10))\n",
    "plt.imshow(output)\n",
    "plt.savefig('out.png')\n",
    "    "
   ]
  },
  {
   "cell_type": "markdown",
   "metadata": {},
   "source": [
    "# Playground"
   ]
  },
  {
   "cell_type": "code",
   "execution_count": null,
   "metadata": {},
   "outputs": [],
   "source": [
    "lines = cv2.HoughLinesP(img, 1, np.pi/180, 10, maxLineGap = 500)\n",
    "for line in lines:\n",
    "    x1, y1, x2, y2 = line[0]\n",
    "    img = cv2.line(edged, (x1,y1), (x2, y2), (0,255,0), 3)\n",
    "plt.imshow(img)"
   ]
  },
  {
   "cell_type": "code",
   "execution_count": null,
   "metadata": {},
   "outputs": [],
   "source": [
    "img = cv2.equalizeHist(img)\n",
    "plt.imshow(img)"
   ]
  },
  {
   "cell_type": "code",
   "execution_count": null,
   "metadata": {},
   "outputs": [],
   "source": [
    "ret, thresh = cv2.threshold(img, 120, 255, 0)\n",
    "plt.imshow(thresh)"
   ]
  }
 ],
 "metadata": {
  "kernelspec": {
   "display_name": "Python 3",
   "language": "python",
   "name": "python3"
  },
  "language_info": {
   "codemirror_mode": {
    "name": "ipython",
    "version": 3
   },
   "file_extension": ".py",
   "mimetype": "text/x-python",
   "name": "python",
   "nbconvert_exporter": "python",
   "pygments_lexer": "ipython3",
   "version": "3.7.7"
  }
 },
 "nbformat": 4,
 "nbformat_minor": 4
}
